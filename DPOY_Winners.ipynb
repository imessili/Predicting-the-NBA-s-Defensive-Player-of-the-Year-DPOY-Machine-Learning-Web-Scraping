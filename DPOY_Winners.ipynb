{
 "cells": [
  {
   "cell_type": "code",
   "execution_count": 5,
   "id": "caa6d438-199b-4d03-ab34-17b4d9b040ba",
   "metadata": {},
   "outputs": [
    {
     "name": "stdout",
     "output_type": "stream",
     "text": [
      "Requirement already satisfied: requests in c:\\users\\abdou\\appdata\\local\\programs\\python\\python38\\lib\\site-packages (2.31.0)\n",
      "Requirement already satisfied: charset-normalizer<4,>=2 in c:\\users\\abdou\\appdata\\local\\programs\\python\\python38\\lib\\site-packages (from requests) (3.3.2)\n",
      "Requirement already satisfied: idna<4,>=2.5 in c:\\users\\abdou\\appdata\\local\\programs\\python\\python38\\lib\\site-packages (from requests) (3.6)\n",
      "Requirement already satisfied: urllib3<3,>=1.21.1 in c:\\users\\abdou\\appdata\\local\\programs\\python\\python38\\lib\\site-packages (from requests) (2.1.0)\n",
      "Requirement already satisfied: certifi>=2017.4.17 in c:\\users\\abdou\\appdata\\local\\programs\\python\\python38\\lib\\site-packages (from requests) (2023.11.17)\n",
      "Requirement already satisfied: beautifulsoup4 in c:\\users\\abdou\\appdata\\local\\programs\\python\\python38\\lib\\site-packages (4.12.2)\n",
      "Requirement already satisfied: soupsieve>1.2 in c:\\users\\abdou\\appdata\\local\\programs\\python\\python38\\lib\\site-packages (from beautifulsoup4) (2.5)\n",
      "Requirement already satisfied: pandas in c:\\users\\abdou\\appdata\\local\\programs\\python\\python38\\lib\\site-packages (2.0.3)\n",
      "Requirement already satisfied: python-dateutil>=2.8.2 in c:\\users\\abdou\\appdata\\local\\programs\\python\\python38\\lib\\site-packages (from pandas) (2.8.2)\n",
      "Requirement already satisfied: pytz>=2020.1 in c:\\users\\abdou\\appdata\\local\\programs\\python\\python38\\lib\\site-packages (from pandas) (2023.3.post1)\n",
      "Requirement already satisfied: tzdata>=2022.1 in c:\\users\\abdou\\appdata\\local\\programs\\python\\python38\\lib\\site-packages (from pandas) (2023.4)\n",
      "Requirement already satisfied: numpy>=1.20.3 in c:\\users\\abdou\\appdata\\local\\programs\\python\\python38\\lib\\site-packages (from pandas) (1.24.4)\n",
      "Requirement already satisfied: six>=1.5 in c:\\users\\abdou\\appdata\\local\\programs\\python\\python38\\lib\\site-packages (from python-dateutil>=2.8.2->pandas) (1.16.0)\n",
      "Requirement already satisfied: lxml in c:\\users\\abdou\\appdata\\local\\programs\\python\\python38\\lib\\site-packages (5.0.0)\n"
     ]
    }
   ],
   "source": [
    "!pip install requests\n",
    "!pip install beautifulsoup4\n",
    "!pip install pandas\n",
    "!pip3 install lxml"
   ]
  },
  {
   "cell_type": "code",
   "execution_count": 12,
   "id": "4a09617c-a6b7-4e43-8f83-7d4c810740d6",
   "metadata": {},
   "outputs": [],
   "source": [
    "## All years from 1993 to 2023\n",
    "years = list(range(1993,2024))"
   ]
  },
  {
   "cell_type": "code",
   "execution_count": 13,
   "id": "a7c7a2f2-a553-4909-9162-5559e673cc13",
   "metadata": {},
   "outputs": [],
   "source": [
    "## extract the html page from the url\n",
    "import requests\n",
    "url_start = \"https://www.basketball-reference.com/awards/dpoy.html\"\n",
    "data = requests.get(url_start)"
   ]
  },
  {
   "cell_type": "code",
   "execution_count": 14,
   "id": "51940306-866b-49ec-8474-cd27df6fa549",
   "metadata": {},
   "outputs": [],
   "source": [
    "# saving the html page in a file\n",
    "with open(\"DPOY_1993_2023.html\", \"w+\", encoding=\"utf-8\") as f:\n",
    "    f.write(data.text)"
   ]
  },
  {
   "cell_type": "code",
   "execution_count": 16,
   "id": "418051d9-6216-452f-8ac8-79c44b7a9c94",
   "metadata": {
    "scrolled": true
   },
   "outputs": [],
   "source": [
    "from bs4 import BeautifulSoup\n",
    "## reading the html page\n",
    "f = open(\"DPOY_1993_2023.html\",encoding=\"utf-8\")\n",
    "page = f.read()\n",
    "\n",
    "## saving the DPOY table\n",
    "soup = BeautifulSoup(page,'html.parser')\n",
    "soup.find('tr', class_=\"over_header\").decompose()\n",
    "dpoy_table = soup.find_all(id=\"dpoy_NBA\")[0]\n"
   ]
  },
  {
   "cell_type": "code",
   "execution_count": 17,
   "id": "d34f1f20-6170-4b6f-9e3b-b178387986c9",
   "metadata": {},
   "outputs": [],
   "source": [
    "import pandas as pd\n",
    "\n",
    "## removing the unecessery years\n",
    "dpoy = pd.read_html(str(dpoy_table))[0]\n",
    "dpoy\n",
    "dpoy.drop([31,32,33,34,35,36,37,38,39,40],axis=0,inplace=True)\n",
    "dpoy.to_csv(\"dpoy_winners.csv\")"
   ]
  },
  {
   "cell_type": "code",
   "execution_count": 20,
   "id": "4953dadc-3042-4224-8211-8d3721b2b9a6",
   "metadata": {},
   "outputs": [],
   "source": [
    "from bs4 import BeautifulSoup\n",
    "f = open(\"DPOY_1993_2023.html\",encoding=\"utf-8\")\n",
    "page = f.read()\n",
    "\n",
    "## saving the table as .csv\n",
    "soup = BeautifulSoup(page,'html.parser')\n",
    "dpoy_summary_table = soup.find_all(id=\"dpoy_summary\")[0]"
   ]
  },
  {
   "cell_type": "code",
   "execution_count": 21,
   "id": "cb0321fe-24fe-4066-8df0-a8bb8510fa8a",
   "metadata": {},
   "outputs": [],
   "source": [
    "## saving the table as .csv\n",
    "dpoy_summary = pd.read_html(str(dpoy_summary_table))[0]\n",
    "dpoy_summary.to_csv(\"dpoy_summary.csv\")"
   ]
  }
 ],
 "metadata": {
  "kernelspec": {
   "display_name": "Python 3 (ipykernel)",
   "language": "python",
   "name": "python3"
  },
  "language_info": {
   "codemirror_mode": {
    "name": "ipython",
    "version": 3
   },
   "file_extension": ".py",
   "mimetype": "text/x-python",
   "name": "python",
   "nbconvert_exporter": "python",
   "pygments_lexer": "ipython3",
   "version": "3.8.0"
  }
 },
 "nbformat": 4,
 "nbformat_minor": 5
}
