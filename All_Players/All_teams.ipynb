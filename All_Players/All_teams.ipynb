{
 "cells": [
  {
   "cell_type": "code",
   "execution_count": 28,
   "id": "0e501cdd-8210-4200-90e0-c1fdc492ac00",
   "metadata": {},
   "outputs": [
    {
     "name": "stdout",
     "output_type": "stream",
     "text": [
      "Requirement already satisfied: requests in c:\\users\\abdou\\appdata\\local\\programs\\python\\python38\\lib\\site-packages (2.31.0)\n",
      "Requirement already satisfied: charset-normalizer<4,>=2 in c:\\users\\abdou\\appdata\\local\\programs\\python\\python38\\lib\\site-packages (from requests) (3.3.2)\n",
      "Requirement already satisfied: idna<4,>=2.5 in c:\\users\\abdou\\appdata\\local\\programs\\python\\python38\\lib\\site-packages (from requests) (3.6)\n",
      "Requirement already satisfied: urllib3<3,>=1.21.1 in c:\\users\\abdou\\appdata\\local\\programs\\python\\python38\\lib\\site-packages (from requests) (2.1.0)\n",
      "Requirement already satisfied: certifi>=2017.4.17 in c:\\users\\abdou\\appdata\\local\\programs\\python\\python38\\lib\\site-packages (from requests) (2023.11.17)\n",
      "Requirement already satisfied: selenium==3.5.0 in c:\\users\\abdou\\appdata\\local\\programs\\python\\python38\\lib\\site-packages (3.5.0)\n"
     ]
    }
   ],
   "source": [
    "!pip install requests\n",
    "!pip install selenium==3.5.0"
   ]
  },
  {
   "cell_type": "code",
   "execution_count": 29,
   "id": "2e2c6b0c-14b0-490b-b4f9-4584a3325193",
   "metadata": {},
   "outputs": [],
   "source": [
    "## All years from 1993 to 2023\n",
    "years = list(range(1993,2024))"
   ]
  },
  {
   "cell_type": "code",
   "execution_count": 30,
   "id": "3ce893fc-256e-415c-98b3-e2bc194f50c6",
   "metadata": {},
   "outputs": [],
   "source": [
    "## empty list of all urls\n",
    "All_urls = []"
   ]
  },
  {
   "cell_type": "code",
   "execution_count": 31,
   "id": "b27d1fec-2977-4612-93f7-0c5af5ae0ce3",
   "metadata": {},
   "outputs": [],
   "source": [
    "## this page contains all the teams list\n",
    "All_teams_url = \"https://www.basketball-reference.com/teams/\""
   ]
  },
  {
   "cell_type": "code",
   "execution_count": null,
   "id": "a3ee9f7d-23ca-47d9-b7d0-ce669d9db77f",
   "metadata": {},
   "outputs": [],
   "source": [
    "## all teams abbreviation\n",
    "team_list = [\n",
    "    'OKC', 'SEA', 'MEM', 'VAN', 'GSW', 'PHW', 'SFW', 'SAC', 'KCK', 'KCO',\n",
    "    'CIN', 'ROC', 'DEN', 'DNR', 'HOU', 'SDR', 'LAC', 'SDC', 'BUF', 'DET',\n",
    "    'FTW', 'NOH', 'NOK', 'NOP', 'PHI', 'SYR', 'ATL', 'STL', 'MLH', 'TRI',\n",
    "    'NJN', 'BRK', 'NJA', 'NYA', 'CHA', 'CHO', 'CHH', 'LAL', 'MNL', 'UTA',\n",
    "    'NOJ', 'WAS', 'WSB', 'CAP', 'BAL', 'CHZ', 'MMS', 'MMT', 'MMP', 'NOB',\n",
    "    'SAS', 'DLC', 'TEX'\n",
    "]\n",
    "\n",
    "## sorting the list \n",
    "team_list.sort()\n",
    "\n",
    "## creating the teams urls list \n",
    "for team in team_list:\n",
    "   All_urls.append(All_teams_url + team + \"/\")\n"
   ]
  },
  {
   "cell_type": "code",
   "execution_count": 33,
   "id": "9496d3d1-0a19-4686-ac4f-f0b5b9a8ee4b",
   "metadata": {},
   "outputs": [
    {
     "data": {
      "text/plain": [
       "['https://www.basketball-reference.com/teams/ATL/',\n",
       " 'https://www.basketball-reference.com/teams/BAL/',\n",
       " 'https://www.basketball-reference.com/teams/BRK/',\n",
       " 'https://www.basketball-reference.com/teams/BUF/',\n",
       " 'https://www.basketball-reference.com/teams/CAP/',\n",
       " 'https://www.basketball-reference.com/teams/CHA/',\n",
       " 'https://www.basketball-reference.com/teams/CHH/',\n",
       " 'https://www.basketball-reference.com/teams/CHO/',\n",
       " 'https://www.basketball-reference.com/teams/CHZ/',\n",
       " 'https://www.basketball-reference.com/teams/CIN/',\n",
       " 'https://www.basketball-reference.com/teams/DEN/',\n",
       " 'https://www.basketball-reference.com/teams/DET/',\n",
       " 'https://www.basketball-reference.com/teams/DLC/',\n",
       " 'https://www.basketball-reference.com/teams/DNR/',\n",
       " 'https://www.basketball-reference.com/teams/FTW/',\n",
       " 'https://www.basketball-reference.com/teams/GSW/',\n",
       " 'https://www.basketball-reference.com/teams/HOU/',\n",
       " 'https://www.basketball-reference.com/teams/KCK/',\n",
       " 'https://www.basketball-reference.com/teams/KCO/',\n",
       " 'https://www.basketball-reference.com/teams/LAC/',\n",
       " 'https://www.basketball-reference.com/teams/LAL/',\n",
       " 'https://www.basketball-reference.com/teams/MEM/',\n",
       " 'https://www.basketball-reference.com/teams/MLH/',\n",
       " 'https://www.basketball-reference.com/teams/MMP/',\n",
       " 'https://www.basketball-reference.com/teams/MMS/',\n",
       " 'https://www.basketball-reference.com/teams/MMT/',\n",
       " 'https://www.basketball-reference.com/teams/MNL/',\n",
       " 'https://www.basketball-reference.com/teams/NJA/',\n",
       " 'https://www.basketball-reference.com/teams/NJN/',\n",
       " 'https://www.basketball-reference.com/teams/NOB/',\n",
       " 'https://www.basketball-reference.com/teams/NOH/',\n",
       " 'https://www.basketball-reference.com/teams/NOJ/',\n",
       " 'https://www.basketball-reference.com/teams/NOK/',\n",
       " 'https://www.basketball-reference.com/teams/NOP/',\n",
       " 'https://www.basketball-reference.com/teams/NYA/',\n",
       " 'https://www.basketball-reference.com/teams/OKC/',\n",
       " 'https://www.basketball-reference.com/teams/PHI/',\n",
       " 'https://www.basketball-reference.com/teams/PHW/',\n",
       " 'https://www.basketball-reference.com/teams/ROC/',\n",
       " 'https://www.basketball-reference.com/teams/SAC/',\n",
       " 'https://www.basketball-reference.com/teams/SAS/',\n",
       " 'https://www.basketball-reference.com/teams/SDC/',\n",
       " 'https://www.basketball-reference.com/teams/SDR/',\n",
       " 'https://www.basketball-reference.com/teams/SEA/',\n",
       " 'https://www.basketball-reference.com/teams/SFW/',\n",
       " 'https://www.basketball-reference.com/teams/STL/',\n",
       " 'https://www.basketball-reference.com/teams/SYR/',\n",
       " 'https://www.basketball-reference.com/teams/TEX/',\n",
       " 'https://www.basketball-reference.com/teams/TRI/',\n",
       " 'https://www.basketball-reference.com/teams/UTA/',\n",
       " 'https://www.basketball-reference.com/teams/VAN/',\n",
       " 'https://www.basketball-reference.com/teams/WAS/',\n",
       " 'https://www.basketball-reference.com/teams/WSB/']"
      ]
     },
     "execution_count": 33,
     "metadata": {},
     "output_type": "execute_result"
    }
   ],
   "source": [
    "## all teams urls\n",
    "All_urls"
   ]
  },
  {
   "cell_type": "code",
   "execution_count": 36,
   "id": "83f1b620-01d4-4bf7-a83c-63a7be05d89c",
   "metadata": {},
   "outputs": [],
   "source": [
    "All_urls = ['https://www.basketball-reference.com/teams/VAN/',\n",
    " 'https://www.basketball-reference.com/teams/WAS/',\n",
    " 'https://www.basketball-reference.com/teams/WSB/']"
   ]
  },
  {
   "cell_type": "code",
   "execution_count": 37,
   "id": "4f8a6cbe-4ed2-4ccc-8ac5-b609e8f8fbcf",
   "metadata": {},
   "outputs": [],
   "source": [
    "import os\n",
    "from selenium import webdriver\n",
    "from selenium.webdriver.common.keys import Keys\n",
    "import time\n",
    "\n",
    "## to lunch the web chrome driver\n",
    "driver = webdriver.Chrome(\n",
    "    executable_path=\"./chromedriver.exe\"\n",
    "    )"
   ]
  },
  {
   "cell_type": "code",
   "execution_count": 38,
   "id": "52e5e894-d097-4bc8-84a5-e8fce3322e1d",
   "metadata": {},
   "outputs": [],
   "source": [
    "import pandas as pd\n",
    "from IPython.display import display\n",
    "import os\n",
    "\n",
    "## go through all the teams and extract the necessery stats\n",
    "for url in All_urls:\n",
    "\n",
    "    parts = url.split(\"/\")\n",
    "    team_code = parts[-2]\n",
    "\n",
    "    os.makedirs(\"All_teams_stats/{}\".format(team_code), exist_ok=True)\n",
    "\n",
    "    team_stats = pd.DataFrame()\n",
    "    \n",
    "    for year in years:\n",
    "        team_stats_per_year = pd.DataFrame()\n",
    "        team_url = url + \"{}.html\".format(year)\n",
    "        driver.get(team_url)\n",
    "        driver.execute_script(\"window.scrollTo(1,10000)\")\n",
    "        time.sleep(0.5)\n",
    "        \n",
    "        page = driver.page_source\n",
    "        \n",
    "        soup = BeautifulSoup(page, 'html.parser')\n",
    "        \n",
    "        ## Team and Opponent Stats \n",
    "        init_team_and_opponent = soup.find_all(\"table\", {'id':'team_and_opponent'})\n",
    "        if init_team_and_opponent is not None and len(init_team_and_opponent) > 0:\n",
    "            \n",
    "            team_and_opponent = init_team_and_opponent[0]\n",
    "            team_and_opponent = pd.read_html(str(team_and_opponent))[0]\n",
    "            team_and_opponent1 = team_and_opponent.iloc[0:1, :]\n",
    "            team_and_opponent2 = team_and_opponent.iloc[4:5, :]\n",
    "            team_and_opponent1 = team_and_opponent1.add_suffix('_team')\n",
    "            team_and_opponent2 = team_and_opponent2.add_suffix('_opponent')\n",
    "            team_and_opponent1 = team_and_opponent1.reset_index(drop=True)\n",
    "            team_and_opponent2 = team_and_opponent2.reset_index(drop=True)\n",
    "            team_stats_per_year = pd.concat([team_and_opponent1, team_and_opponent2], axis=1)\n",
    "            ##team_and_opponent1.to_csv(\"All_teams_stats/{0}/team_and_opponent1_{1}.csv\".format(team_code, year))\n",
    "            ##team_and_opponent2.to_csv(\"All_teams_stats/{0}/team_and_opponent2_{1}.csv\".format(team_code, year))\n",
    "\n",
    "        ## Team Misc\n",
    "        init_team_misc = soup.find_all(\"table\", {'id':'team_misc'})\n",
    "        \n",
    "        if init_team_misc is not None and len(init_team_misc) > 0:\n",
    "            \n",
    "            \n",
    "            init_team_misc_elements = init_team_misc[0].find_all('tr',class_=\"over_header\")\n",
    "            \n",
    "            for element in init_team_misc_elements:\n",
    "                element.decompose()\n",
    "            \n",
    "            team_misc = init_team_misc[0]\n",
    "            team_misc = (pd.read_html(str(team_misc)))[0]\n",
    "            team_misc = team_misc.iloc[0:1, :]\n",
    "            team_misc = team_misc.add_suffix('_misc')\n",
    "            team_misc = team_misc.reset_index(drop=True)\n",
    "            team_stats_per_year = pd.concat([team_stats_per_year,team_misc], axis=1)\n",
    "            ##team_misc.to_csv(\"All_teams_stats/{0}/team_misc_{1}.csv\".format(team_code, year))\n",
    "\n",
    "        if team_stats_per_year is not None and len(team_stats_per_year) > 0:\n",
    "            team_stats_per_year = team_stats_per_year.drop(columns=team_stats_per_year.columns[team_stats_per_year.columns.str.contains('Unnamed')])\n",
    "            team_stats_per_year.insert(0, 'Year', year)\n",
    "            team_stats = pd.concat([team_stats, team_stats_per_year], axis=0)\n",
    "        \n",
    "    ## save the stats in a .csv file\n",
    "    team_stats.to_csv(\"All_teams_stats/{0}/team_stats.csv\".format(team_code))\n",
    "    "
   ]
  }
 ],
 "metadata": {
  "kernelspec": {
   "display_name": "Python 3 (ipykernel)",
   "language": "python",
   "name": "python3"
  },
  "language_info": {
   "codemirror_mode": {
    "name": "ipython",
    "version": 3
   },
   "file_extension": ".py",
   "mimetype": "text/x-python",
   "name": "python",
   "nbconvert_exporter": "python",
   "pygments_lexer": "ipython3",
   "version": "3.8.0"
  }
 },
 "nbformat": 4,
 "nbformat_minor": 5
}
