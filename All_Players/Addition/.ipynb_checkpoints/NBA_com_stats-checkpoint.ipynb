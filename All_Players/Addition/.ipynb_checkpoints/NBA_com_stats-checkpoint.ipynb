{
 "cells": [
  {
   "cell_type": "code",
   "execution_count": 1,
   "id": "411cfa39-27f4-4aa1-bfab-c26dafdd87c3",
   "metadata": {},
   "outputs": [
    {
     "name": "stdout",
     "output_type": "stream",
     "text": [
      "Requirement already satisfied: requests in c:\\users\\abdou\\appdata\\local\\programs\\python\\python38\\lib\\site-packages (2.31.0)\n",
      "Requirement already satisfied: charset-normalizer<4,>=2 in c:\\users\\abdou\\appdata\\local\\programs\\python\\python38\\lib\\site-packages (from requests) (2.0.12)\n",
      "Requirement already satisfied: idna<4,>=2.5 in c:\\users\\abdou\\appdata\\local\\programs\\python\\python38\\lib\\site-packages (from requests) (3.3)\n",
      "Requirement already satisfied: urllib3<3,>=1.21.1 in c:\\users\\abdou\\appdata\\local\\programs\\python\\python38\\lib\\site-packages (from requests) (1.26.9)\n",
      "Requirement already satisfied: certifi>=2017.4.17 in c:\\users\\abdou\\appdata\\local\\programs\\python\\python38\\lib\\site-packages (from requests) (2021.10.8)\n",
      "Requirement already satisfied: beautifulsoup4 in c:\\users\\abdou\\appdata\\local\\programs\\python\\python38\\lib\\site-packages (4.11.1)\n",
      "Requirement already satisfied: soupsieve>1.2 in c:\\users\\abdou\\appdata\\local\\programs\\python\\python38\\lib\\site-packages (from beautifulsoup4) (2.3.2.post1)\n",
      "Requirement already satisfied: pandas in c:\\users\\abdou\\appdata\\local\\programs\\python\\python38\\lib\\site-packages (2.0.3)\n",
      "Requirement already satisfied: python-dateutil>=2.8.2 in c:\\users\\abdou\\appdata\\local\\programs\\python\\python38\\lib\\site-packages (from pandas) (2.8.2)\n",
      "Requirement already satisfied: pytz>=2020.1 in c:\\users\\abdou\\appdata\\local\\programs\\python\\python38\\lib\\site-packages (from pandas) (2023.3.post1)\n",
      "Requirement already satisfied: tzdata>=2022.1 in c:\\users\\abdou\\appdata\\local\\programs\\python\\python38\\lib\\site-packages (from pandas) (2023.4)\n",
      "Requirement already satisfied: numpy>=1.20.3 in c:\\users\\abdou\\appdata\\local\\programs\\python\\python38\\lib\\site-packages (from pandas) (1.24.4)\n",
      "Requirement already satisfied: six>=1.5 in c:\\users\\abdou\\appdata\\local\\programs\\python\\python38\\lib\\site-packages (from python-dateutil>=2.8.2->pandas) (1.16.0)\n",
      "Requirement already satisfied: lxml in c:\\users\\abdou\\appdata\\local\\programs\\python\\python38\\lib\\site-packages (5.0.0)\n"
     ]
    }
   ],
   "source": [
    "!pip install requests\n",
    "!pip install beautifulsoup4\n",
    "!pip install pandas\n",
    "!pip3 install lxml"
   ]
  },
  {
   "cell_type": "code",
   "execution_count": 2,
   "id": "58a172dc-33ef-4957-9c0a-303e7cf40dff",
   "metadata": {},
   "outputs": [],
   "source": [
    "## All years from 1997 to 2023\n",
    "years = list(range(1997,2024))"
   ]
  },
  {
   "cell_type": "code",
   "execution_count": 78,
   "id": "f5822bd6-e228-4207-a83b-719d73957231",
   "metadata": {},
   "outputs": [],
   "source": [
    "## url to all players nba.com (defensive stats)\n",
    "url_nba_com = \"https://www.nba.com/stats/players/defense?Season={}\""
   ]
  },
  {
   "cell_type": "code",
   "execution_count": 68,
   "id": "59f5309c-0812-4ddf-9b0e-5d75f93d9621",
   "metadata": {},
   "outputs": [
    {
     "name": "stderr",
     "output_type": "stream",
     "text": [
      "C:\\Users\\Abdou\\AppData\\Local\\Temp\\ipykernel_8488\\4130401498.py:12: DeprecationWarning: executable_path has been deprecated, please pass in a Service object\n",
      "  driver = webdriver.Chrome(\n"
     ]
    }
   ],
   "source": [
    "## to execute webChromeDriver\n",
    "## allows developers to automate interactions with Chrome\n",
    "## opening web pages, filling forms, clicking buttons, and extracting information\n",
    "import os\n",
    "## Js framework for automating web browsers\n",
    "from selenium import webdriver\n",
    "from selenium.webdriver.support.ui import Select\n",
    "from selenium.webdriver.common.keys import Keys\n",
    "import time\n",
    "\n",
    "# Create a new instance of the Chrome driver\n",
    "driver = webdriver.Chrome(\n",
    "    executable_path=\"./chromedriver.exe\"\n",
    "    )"
   ]
  },
  {
   "cell_type": "code",
   "execution_count": 91,
   "id": "a15970e7-c513-4b62-bbf8-05b7c2734be6",
   "metadata": {},
   "outputs": [],
   "source": [
    "from bs4 import BeautifulSoup\n",
    "import pandas as pd\n",
    "\n",
    "for year in years:\n",
    "\n",
    "    last_two_digits = str(year)[-2:]\n",
    "    season = f\"{year-1}-{last_two_digits}\"\n",
    "    url = url_nba_com.format(season)\n",
    "\n",
    "    driver.get(url)\n",
    "\n",
    "    time.sleep(5)\n",
    "    \n",
    "    \n",
    "    # Find the parent div of the dropdown element\n",
    "    dropdown_parent_div = driver.find_element(By.CLASS_NAME, \"Pagination_pageDropdown__KgjBU\")\n",
    "    \n",
    "    # Find the dropdown element within the parent div\n",
    "    dropdown = dropdown_parent_div.find_element(By.CLASS_NAME, \"DropDown_select__4pIg9\")\n",
    "    \n",
    "    # Create a Select object\n",
    "    select = Select(dropdown)\n",
    "    \n",
    "    # Select the \"All\" option by its value\n",
    "    select.select_by_index(0)\n",
    "    \n",
    "    driver.execute_script(\"window.scrollTo(1,25000)\")\n",
    "    \n",
    "    # Get the page source after the content is dynamically loaded\n",
    "    page = driver.page_source\n",
    "    \n",
    "    soup = BeautifulSoup(page, 'html.parser')\n",
    "    \n",
    "    # Extract table data\n",
    "    table = soup.find('table', class_='Crom_table__p1iZz')\n",
    "    \n",
    "    column_headers = [\n",
    "        'PLAYER', 'TEAM', 'AGE', 'GP', 'W', 'L', 'MIN', 'DEF RTG',\n",
    "        'DREB', 'DREB%', '%DREB', 'STL', 'STL%', 'BLK', '%BLK',\n",
    "        'OPP PTS OFF TOV', 'OPP PTS 2ND CHANCE', 'OPP PTS FB', 'OPP PTS PAINT', 'DEF WS'\n",
    "    ]\n",
    "    \n",
    "    rows = []\n",
    "    for row in table.select('tbody tr'):\n",
    "        row_data = [td.get_text(strip=True) for td in row.find_all(['td', 'th'])]\n",
    "        rows.append(row_data[1:])\n",
    "    \n",
    "    full_table = pd.DataFrame(rows, columns=column_headers)\n",
    "    full_table.reset_index(drop=True, inplace=True)\n",
    "    \n",
    "    full_table.to_csv(\"nba_com_stats/{}.csv\".format(year))\n"
   ]
  },
  {
   "cell_type": "code",
   "execution_count": 4,
   "id": "0d39beea-a71e-4bf0-bab9-7a1a3bdc47f6",
   "metadata": {},
   "outputs": [],
   "source": [
    "from bs4 import BeautifulSoup\n",
    "import pandas as pd\n",
    "\n",
    "## concat all the csv files from NBA.com into one big dataframe\n",
    "all_nba_df = pd.DataFrame()\n",
    "for year in years:\n",
    "    \n",
    "    year_stats = pd.read_csv(\"nba_com_stats/{0}.csv\".format(year))\n",
    "    all_nba_df = pd.concat([all_nba_df,year_stats], axis=0)\n",
    "    all_nba_df.reset_index(drop=True, inplace=True)\n",
    "    \n",
    "all_nba_df = all_nba_df.drop(columns=all_nba_df.columns[all_nba_df.columns.str.contains('Unnamed')])    \n",
    "all_nba_df.to_csv(\"nba_com_stats.csv\")"
   ]
  },
  {
   "cell_type": "code",
   "execution_count": null,
   "id": "eb860423-f637-46cf-ad2d-ff3ffc2cfae6",
   "metadata": {},
   "outputs": [],
   "source": []
  }
 ],
 "metadata": {
  "kernelspec": {
   "display_name": "Python 3 (ipykernel)",
   "language": "python",
   "name": "python3"
  },
  "language_info": {
   "codemirror_mode": {
    "name": "ipython",
    "version": 3
   },
   "file_extension": ".py",
   "mimetype": "text/x-python",
   "name": "python",
   "nbconvert_exporter": "python",
   "pygments_lexer": "ipython3",
   "version": "3.8.0"
  }
 },
 "nbformat": 4,
 "nbformat_minor": 5
}
