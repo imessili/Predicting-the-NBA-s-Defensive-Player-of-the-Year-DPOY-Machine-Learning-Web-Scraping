{
 "cells": [
  {
   "cell_type": "code",
   "execution_count": null,
   "id": "637ca0ff-2cf8-4d89-ab59-6ae135c7cc60",
   "metadata": {},
   "outputs": [],
   "source": [
    "!pip install requests\n",
    "!pip install beautifulsoup4\n",
    "!pip install pandas\n",
    "!pip3 install lxml"
   ]
  },
  {
   "cell_type": "code",
   "execution_count": 2,
   "id": "0fc8b290-ba50-4710-acaf-54c76449b21e",
   "metadata": {},
   "outputs": [],
   "source": [
    "## All years from 1997 to 2023\n",
    "years = list(range(1997,2024))"
   ]
  },
  {
   "cell_type": "code",
   "execution_count": 2,
   "id": "b059ba57-3972-4428-b4bb-9f0ccd5bfb2a",
   "metadata": {},
   "outputs": [],
   "source": [
    "## url to all players nba.com (defensive stats)\n",
    "url_nba_com = \"https://www.espn.com/nba/statistics/rpm/_/year/{}\""
   ]
  },
  {
   "cell_type": "code",
   "execution_count": 57,
   "id": "6154bfb6-262e-4ce4-a300-15ee743718de",
   "metadata": {},
   "outputs": [
    {
     "name": "stderr",
     "output_type": "stream",
     "text": [
      "C:\\Users\\Abdou\\AppData\\Local\\Temp\\ipykernel_4376\\999147771.py:11: DeprecationWarning: executable_path has been deprecated, please pass in a Service object\n",
      "  driver = webdriver.Chrome(\n"
     ]
    }
   ],
   "source": [
    "## to execute webChromeDriver\n",
    "## allows developers to automate interactions with Chrome\n",
    "## opening web pages, filling forms, clicking buttons, and extracting information\n",
    "import os\n",
    "## Js framework for automating web browsers\n",
    "from selenium import webdriver\n",
    "from selenium.webdriver.common.keys import Keys\n",
    "import time\n",
    "\n",
    "# Create a new instance of the Chrome driver\n",
    "driver = webdriver.Chrome(\n",
    "    executable_path=\"./chromedriver.exe\"\n",
    "    )"
   ]
  },
  {
   "cell_type": "code",
   "execution_count": 58,
   "id": "93e0f9f3-302c-4ead-aa5f-0d88a61a94c3",
   "metadata": {},
   "outputs": [],
   "source": [
    "from bs4 import BeautifulSoup\n",
    "import pandas as pd\n",
    "\n",
    "for year in years:\n",
    "    \n",
    "    url = url_nba_com.format(year)  \n",
    "    driver.get(url)\n",
    "    page = driver.page_source\n",
    "    soup = BeautifulSoup(page, 'html.parser')\n",
    "    \n",
    "    div_element = soup.find('div', class_='page-numbers')\n",
    "    text_content = div_element.get_text(strip=True)\n",
    "    pages_number = int(text_content.split('of ')[1])\n",
    "\n",
    "    full_table = pd.DataFrame()\n",
    "    for p in range(1,pages_number + 1):\n",
    "        new_url = url + \"/page/\" + str(p)\n",
    "        driver.get(new_url)\n",
    "        driver.execute_script(\"window.scrollTo(1,10000)\")\n",
    "        page = driver.page_source\n",
    "        soup = BeautifulSoup(page, 'html.parser')\n",
    "        table = soup.find('table', class_='tablehead')\n",
    "\n",
    "        \n",
    "        if p != 1 :\n",
    "            colhead_row = table.find('tr', class_='colhead')\n",
    "            colhead_row.decompose()\n",
    "        \n",
    "        part_table = pd.read_html(str(table))[0]\n",
    "        full_table = pd.concat([full_table,part_table], axis=0)\n",
    "    ## some pages need manual intervantion/extraction\n",
    "    full_table.columns = full_table.iloc[0]\n",
    "    full_table = full_table[1:].reset_index(drop=True)    \n",
    "    full_table.reset_index(drop=True, inplace=True)\n",
    "    full_table.to_csv(\"espn_com_stats/{}.csv\".format(year))"
   ]
  },
  {
   "cell_type": "code",
   "execution_count": 4,
   "id": "2107570d-9e45-408f-932a-529a91ff4c47",
   "metadata": {},
   "outputs": [],
   "source": [
    "from bs4 import BeautifulSoup\n",
    "import pandas as pd\n",
    "\n",
    "## concat all the csv files from espn.com into one big dataframe\n",
    "all_espn_df = pd.DataFrame()\n",
    "for year in years:\n",
    "    \n",
    "    year_stats = pd.read_csv(\"espn_com_stats/{0}.csv\".format(year))\n",
    "    year_stats['Year'] = year\n",
    "    all_espn_df = pd.concat([all_espn_df,year_stats], axis=0)\n",
    "    all_espn_df.reset_index(drop=True, inplace=True)\n",
    "    \n",
    "all_espn_df = all_espn_df.drop(columns=all_espn_df.columns[all_espn_df.columns.str.contains('Unnamed')])    \n",
    "all_espn_df.to_csv(\"espn_com_stats.csv\")"
   ]
  },
  {
   "cell_type": "code",
   "execution_count": null,
   "id": "1968de6d-81da-4f02-9228-207e20641f07",
   "metadata": {},
   "outputs": [],
   "source": []
  }
 ],
 "metadata": {
  "kernelspec": {
   "display_name": "Python 3 (ipykernel)",
   "language": "python",
   "name": "python3"
  },
  "language_info": {
   "codemirror_mode": {
    "name": "ipython",
    "version": 3
   },
   "file_extension": ".py",
   "mimetype": "text/x-python",
   "name": "python",
   "nbconvert_exporter": "python",
   "pygments_lexer": "ipython3",
   "version": "3.8.0"
  }
 },
 "nbformat": 4,
 "nbformat_minor": 5
}
