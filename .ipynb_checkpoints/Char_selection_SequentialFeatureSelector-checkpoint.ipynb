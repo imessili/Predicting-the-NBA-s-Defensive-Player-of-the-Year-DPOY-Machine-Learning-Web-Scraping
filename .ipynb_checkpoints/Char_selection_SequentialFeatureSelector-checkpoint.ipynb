{
 "cells": [
  {
   "cell_type": "code",
   "execution_count": 18,
   "id": "3b3880e8-5996-4a02-b9f0-f0d55550f27d",
   "metadata": {},
   "outputs": [],
   "source": [
    "##Sequential feature selection\n",
    "import pandas as pd\n",
    "from sklearn.feature_selection import SequentialFeatureSelector\n",
    "from sklearn.linear_model import LogisticRegression\n",
    "from sklearn.linear_model import LinearRegression\n",
    "from sklearn.linear_model import Lasso\n",
    "from sklearn.linear_model import Ridge\n",
    "from sklearn.ensemble import RandomForestRegressor\n",
    "from sklearn.svm import SVR\n",
    "from sklearn.ensemble import GradientBoostingRegressor"
   ]
  },
  {
   "cell_type": "code",
   "execution_count": 16,
   "id": "71f3742b-d336-42fd-89c6-47d5d367a57d",
   "metadata": {},
   "outputs": [],
   "source": [
    "def show_Sequential_feature_selection(Data_set):\n",
    "    \n",
    "    All_players_dataSet = Data_set.copy()\n",
    "    \n",
    "    All_players_dataSet = All_players_dataSet.drop(columns=All_players_dataSet.columns[All_players_dataSet.columns.str.contains('Unnamed:')])\n",
    "    All_players_dataSet.reset_index(drop=True, inplace=True)\n",
    "    \n",
    "    All_players_dataSet.fillna(0, inplace=True)\n",
    "    All_players_dataSet.replace('', 0, inplace=True)\n",
    "    All_players_dataSet.replace('--', 0, inplace=True)\n",
    "    \n",
    "    # check if any NaN,empty Strings exists in the dataframe\n",
    "    any_missing_values = All_players_dataSet.isna().any().any()\n",
    "    any_empty_values = (All_players_dataSet.applymap(lambda x: x == '')).any().any()\n",
    "    if any_missing_values or any_empty_values:\n",
    "        print(\"DataFrame contains missing values or empty strings/spaces.\")\n",
    "    else:\n",
    "        print(\"DataFrame does not contain missing values or empty strings/spaces.\")\n",
    "        \n",
    "    ## Deleting all the unwanted columns\n",
    "    \"\"\"columns_to_drop = ['Season', 'Year','Player_name','won_dpoy_last_season',\n",
    "                       'Max_points','Tm','Lg','Pos','Rank','Arena_misc',\n",
    "                       'Attendance_misc',]\"\"\"\n",
    "\n",
    "    # Drop unwanted columns\n",
    "    columns_to_drop = ['Season', 'Year', 'Player_name', 'won_dpoy_last_season',\n",
    "                       'Max_points', 'Tm', 'Lg', 'Pos', 'Rank', 'Arena_misc',\n",
    "                       'Attendance_misc','FG', 'FGA', 'FG%', '3P', '3PA',\n",
    "                       '3P%', '2P', '2PA', '2P%', 'eFG%', 'FT', 'FTA', 'FT%', 'ORB',\n",
    "                       'PTS', 'FG_100_poss', 'FGA_100_poss', 'FG%_100_poss',\n",
    "                       '3P_100_poss', '3PA_100_poss', '3P%_100_poss', '2P_100_poss', '2PA_100_poss',\n",
    "                       '2P%_100_poss', 'FT_100_poss', 'FTA_100_poss', 'FT%_100_poss', 'ORB_100_poss',\n",
    "                       'PTS_100_poss', 'ORtg_100_poss', '3PAr_advanced', 'FTr_advanced', 'ORB%_advanced',\n",
    "                       'OWS_advanced', 'OBPM_advanced', 'G_team', 'MP_team', 'FG_team', 'FGA_team',\n",
    "                       'FG%_team', '3P_team', '3PA_team', '3P%_team', '2P_team', '2PA_team', '2P%_team',\n",
    "                       'FT_team', 'FTA_team', 'FT%_team', 'ORB_team', 'G_opponent', 'MP_opponent',\n",
    "                       'FG_opponent', 'STL_opponent', 'BLK_opponent','DRB_opponent', 'TOV_opponent', 'PF_opponent',\n",
    "                       'PTS_opponent', 'ORtg_misc', 'FTr_misc', '3PAr_misc', 'eFG%_misc', 'ORB%_misc',\n",
    "                       'FT/FGA_misc', 'eFG%.1_misc', 'FT/FGA.1_misc', 'ORPM_espn', 'raptor_offense_raptor',\n",
    "                       'war_playoffs_raptor', 'predator_offense_raptor']\n",
    "    \n",
    "    ## Drop the specified columns\n",
    "    All_players_dataSet.drop(columns=columns_to_drop, inplace=True)\n",
    "    \n",
    "    ## seperating our dataFrame\n",
    "    X = All_players_dataSet.drop('Points_won', axis=1)  # Features\n",
    "    Y = All_players_dataSet['Points_won']  # Target\n",
    "\n",
    "    X = X.apply(pd.to_numeric, errors='coerce')\n",
    "\n",
    "    #regressor = SVR(kernel='linear')\n",
    "    #regressor = RandomForestRegressor(n_estimators=100, random_state=42)\n",
    "    regressor = Ridge()\n",
    "    #regressor = Lasso(alpha=0.01)\n",
    "    #regressor = LinearRegression()\n",
    "    #regressor = GradientBoostingRegressor(n_estimators=100, random_state=42)\n",
    "    #regressor = LogisticRegression()\n",
    "    \n",
    "    sfs = SequentialFeatureSelector(regressor, n_features_to_select=40, direction='forward', cv=3)\n",
    "    sfs.fit(X, Y)\n",
    "    selected_features = sfs.get_support(indices=True)\n",
    "\n",
    "    selected_feature_names = X.columns[selected_features]\n",
    "    print(\"Selected Features:\")\n",
    "    print(selected_feature_names)\n",
    "    "
   ]
  },
  {
   "cell_type": "code",
   "execution_count": 5,
   "id": "9fcb81dc-ff36-4af6-8172-3c94bd8a5ab7",
   "metadata": {},
   "outputs": [
    {
     "name": "stderr",
     "output_type": "stream",
     "text": [
      "C:\\Users\\Abdou\\AppData\\Local\\Temp\\ipykernel_12320\\1684146956.py:2: DtypeWarning: Columns (154,155) have mixed types. Specify dtype option on import or set low_memory=False.\n",
      "  all_players_w_add_sorted = pd.read_csv(\"all_players_w_add_sorted.csv\")\n"
     ]
    },
    {
     "name": "stdout",
     "output_type": "stream",
     "text": [
      "DataFrame does not contain missing values or empty strings/spaces.\n",
      "Selected Features:\n",
      "Index(['Dpoy_votes', 'teamates_with_dpoy', 'G', 'AST', 'PF', 'AST_100_poss',\n",
      "       'STL_100_poss', 'TOV_100_poss', 'PF_100_poss', 'TS%_advanced',\n",
      "       'DRB%_advanced', 'TRB%_advanced', 'AST%_advanced', 'STL%_advanced',\n",
      "       'BPM_advanced', 'PF_team', '3P_opponent', '3PA_opponent', '2P_opponent',\n",
      "       'FT%_opponent', 'TRB_opponent', 'AST_opponent', 'Pace_misc',\n",
      "       'TOV%_misc', 'TOV%.1_misc', 'DRB%_misc', 'GP_espn', 'DRPM_espn',\n",
      "       'raptor_defense_raptor', 'predator_defense_raptor',\n",
      "       'pace_impact_raptor', 'GP_nba', 'DEF RTG_nba', 'DREB%_nba', '%DREB_nba',\n",
      "       'STL%_nba', '%BLK_nba', 'OPP PTS FB_nba', 'OPP PTS PAINT_nba',\n",
      "       'D-LEBRON_bball'],\n",
      "      dtype='object')\n"
     ]
    }
   ],
   "source": [
    "## All players dataFrame\n",
    "all_players_w_add_sorted = pd.read_csv(\"all_players_w_add_sorted.csv\")\n",
    "show_Sequential_feature_selection(all_players_w_add_sorted)"
   ]
  },
  {
   "cell_type": "code",
   "execution_count": 6,
   "id": "fe110f02",
   "metadata": {},
   "outputs": [
    {
     "name": "stderr",
     "output_type": "stream",
     "text": [
      "C:\\Users\\Abdou\\AppData\\Local\\Temp\\ipykernel_12320\\3718653005.py:1: DtypeWarning: Columns (154,155) have mixed types. Specify dtype option on import or set low_memory=False.\n",
      "  all_players_w_add_sorted = pd.read_csv(\"all_players_w_add_sorted.csv\")\n"
     ]
    }
   ],
   "source": [
    "all_players_w_add_sorted = pd.read_csv(\"all_players_w_add_sorted.csv\")\n",
    "\n",
    "# covert to intger\n",
    "all_players_w_add_sorted['Year'] = pd.to_numeric(all_players_w_add_sorted['Year'], errors='coerce')\n",
    "\n",
    "# Create subsets for each 5-year interval\n",
    "subset_1993_1997 = all_players_w_add_sorted[(all_players_w_add_sorted['Year'] >= 1993) & (all_players_w_add_sorted['Year'] <= 1997)]\n",
    "subset_1998_2002 = all_players_w_add_sorted[(all_players_w_add_sorted['Year'] >= 1998) & (all_players_w_add_sorted['Year'] <= 2002)]\n",
    "subset_2003_2007 = all_players_w_add_sorted[(all_players_w_add_sorted['Year'] >= 2003) & (all_players_w_add_sorted['Year'] <= 2007)]\n",
    "subset_2008_2012 = all_players_w_add_sorted[(all_players_w_add_sorted['Year'] >= 2008) & (all_players_w_add_sorted['Year'] <= 2012)]\n",
    "subset_2013_2017 = all_players_w_add_sorted[(all_players_w_add_sorted['Year'] >= 2013) & (all_players_w_add_sorted['Year'] <= 2017)]\n",
    "subset_2018_2023 = all_players_w_add_sorted[(all_players_w_add_sorted['Year'] >= 2018) & (all_players_w_add_sorted['Year'] <= 2023)]\n",
    "\n",
    "subset2023 = all_players_w_add_sorted[(all_players_w_add_sorted['Year'] == 2023)]"
   ]
  },
  {
   "cell_type": "code",
   "execution_count": 11,
   "id": "462f0bbc-0a8d-4efa-8ae6-e18607928a7c",
   "metadata": {},
   "outputs": [
    {
     "name": "stdout",
     "output_type": "stream",
     "text": [
      "DataFrame does not contain missing values or empty strings/spaces.\n",
      "Selected Features:\n",
      "Index(['Dpoy_titles', 'Dpoy_votes', 'First_votes', 'teamates_with_dpoy', 'Age',\n",
      "       'G', 'GS', 'MP', 'DRB', 'TRB', 'AST', 'STL', 'BLK', 'TOV', 'PF',\n",
      "       'MP_100_poss', 'DRB_100_poss', 'TRB_100_poss', 'AST_100_poss',\n",
      "       'STL_100_poss', 'BLK_100_poss', 'TOV_100_poss', 'PF_100_poss',\n",
      "       'DRtg_100_poss', 'MP_advanced', 'PER_advanced', 'TS%_advanced',\n",
      "       'DRB%_advanced', 'TRB%_advanced', 'AST%_advanced', 'STL%_advanced',\n",
      "       'BLK%_advanced', 'TOV%_advanced', 'USG%_advanced', 'DWS_advanced',\n",
      "       'WS_advanced', 'WS/48_advanced', 'DBPM_advanced', 'BPM_advanced',\n",
      "       'VORP_advanced'],\n",
      "      dtype='object')\n"
     ]
    }
   ],
   "source": [
    "show_Sequential_feature_selection(subset_1993_1997)"
   ]
  },
  {
   "cell_type": "code",
   "execution_count": 10,
   "id": "627044af-f9b6-464b-8ffd-5b1c2f1690bd",
   "metadata": {},
   "outputs": [
    {
     "name": "stdout",
     "output_type": "stream",
     "text": [
      "DataFrame does not contain missing values or empty strings/spaces.\n",
      "Selected Features:\n",
      "Index(['Dpoy_titles', 'Dpoy_votes', 'First_votes', 'teamates_with_dpoy', 'Age',\n",
      "       'G', 'GS', 'MP', 'DRB', 'TRB', 'AST', 'STL', 'BLK', 'TOV', 'PF',\n",
      "       'MP_100_poss', 'DRB_100_poss', 'TRB_100_poss', 'AST_100_poss',\n",
      "       'STL_100_poss', 'BLK_100_poss', 'TOV_100_poss', 'PF_100_poss',\n",
      "       'DRtg_100_poss', 'MP_advanced', 'PER_advanced', 'TS%_advanced',\n",
      "       'DRB%_advanced', 'TRB%_advanced', 'AST%_advanced', 'STL%_advanced',\n",
      "       'BLK%_advanced', 'TOV%_advanced', 'USG%_advanced', 'DWS_advanced',\n",
      "       'WS_advanced', 'WS/48_advanced', 'DBPM_advanced', 'BPM_advanced',\n",
      "       'VORP_advanced'],\n",
      "      dtype='object')\n"
     ]
    }
   ],
   "source": [
    "show_Sequential_feature_selection(subset_1998_2002)"
   ]
  },
  {
   "cell_type": "code",
   "execution_count": 9,
   "id": "7292fe49-dfb1-4eff-808e-e9eefa891b1e",
   "metadata": {},
   "outputs": [
    {
     "name": "stdout",
     "output_type": "stream",
     "text": [
      "DataFrame does not contain missing values or empty strings/spaces.\n",
      "Selected Features:\n",
      "Index(['Dpoy_votes', 'First_votes', 'teamates_with_dpoy', 'Age', 'G', 'AST',\n",
      "       'STL', 'PF', 'DRB_100_poss', 'STL_100_poss', 'PF_100_poss',\n",
      "       'TS%_advanced', 'STL%_advanced', 'TOV%_advanced', 'DWS_advanced',\n",
      "       'WS/48_advanced', 'DBPM_advanced', 'AST_team', 'STL_team', 'PF_team',\n",
      "       'FT_opponent', 'FTA_opponent', 'FT%_opponent', 'TRB_opponent',\n",
      "       'Pace_misc', 'DRB%_misc', 'DRPM_espn', 'mp_raptor',\n",
      "       'predator_total_raptor', 'GP_nba', 'MIN_nba', 'DEF RTG_nba', 'DREB_nba',\n",
      "       'DREB%_nba', 'STL_nba', 'STL%_nba', 'OPP PTS 2ND CHANCE_nba',\n",
      "       'OPP PTS PAINT_nba', 'DEF WS_nba', 'D-LEBRON_bball'],\n",
      "      dtype='object')\n"
     ]
    }
   ],
   "source": [
    "show_Sequential_feature_selection(subset_2003_2007)"
   ]
  },
  {
   "cell_type": "code",
   "execution_count": 8,
   "id": "db966d84-b088-4207-8054-95606700dd2b",
   "metadata": {},
   "outputs": [
    {
     "name": "stdout",
     "output_type": "stream",
     "text": [
      "DataFrame does not contain missing values or empty strings/spaces.\n",
      "Selected Features:\n",
      "Index(['Dpoy_votes', 'First_votes', 'Age', 'G', 'GS', 'MP', 'STL', 'BLK',\n",
      "       'TOV', 'STL_100_poss', 'TOV_100_poss', 'PF_100_poss', 'STL%_advanced',\n",
      "       'BPM_advanced', 'VORP_advanced', 'BLK_team', 'TOV_team', '3PA_opponent',\n",
      "       'ORB_opponent', 'Pace_misc', 'GP_espn', 'MPG_espn', 'WINS_espn',\n",
      "       'poss_raptor', 'raptor_defense_raptor', 'raptor_total_raptor',\n",
      "       'war_total_raptor', 'war_reg_season_raptor', 'predator_total_raptor',\n",
      "       'pace_impact_raptor', 'GP_nba', 'MIN_nba', 'STL_nba', 'STL%_nba',\n",
      "       'BLK_nba', '%BLK_nba', 'OPP PTS OFF TOV_nba', 'OPP PTS 2ND CHANCE_nba',\n",
      "       'OPP PTS PAINT_nba', 'DEF WS_nba'],\n",
      "      dtype='object')\n"
     ]
    }
   ],
   "source": [
    "show_Sequential_feature_selection(subset_2008_2012)"
   ]
  },
  {
   "cell_type": "code",
   "execution_count": 21,
   "id": "d13ddd65-c87b-429e-b464-dfa3211ae02b",
   "metadata": {},
   "outputs": [
    {
     "name": "stdout",
     "output_type": "stream",
     "text": [
      "DataFrame does not contain missing values or empty strings/spaces.\n",
      "Selected Features:\n",
      "Index(['Dpoy_titles', 'First_votes', 'Age', 'G', 'AST', 'PF', 'STL_100_poss',\n",
      "       'BLK_100_poss', 'TS%_advanced', 'AST%_advanced', 'STL%_advanced',\n",
      "       'WS/48_advanced', 'DBPM_advanced', 'DRB_team', 'TRB_team', 'BLK_team',\n",
      "       'TOV_team', 'PF_team', '2P_opponent', 'FT%_opponent', 'ORB_opponent',\n",
      "       'TRB_opponent', 'W_misc', 'L_misc', 'SOS_misc', 'DRB%_misc', 'GP_espn',\n",
      "       'DRPM_espn', 'RPM_espn', 'WINS_espn', 'raptor_defense_raptor',\n",
      "       'war_total_raptor', 'predator_defense_raptor', 'pace_impact_raptor',\n",
      "       'GP_nba', 'W_nba', 'L_nba', 'BLK_nba', '%BLK_nba', 'D-LEBRON_bball'],\n",
      "      dtype='object')\n"
     ]
    }
   ],
   "source": [
    "show_Sequential_feature_selection(subset_2013_2017)"
   ]
  },
  {
   "cell_type": "code",
   "execution_count": null,
   "id": "fdb0b8e4-f023-4f35-9fa0-68c96263cfb9",
   "metadata": {},
   "outputs": [],
   "source": []
  }
 ],
 "metadata": {
  "kernelspec": {
   "display_name": "Python 3 (ipykernel)",
   "language": "python",
   "name": "python3"
  },
  "language_info": {
   "codemirror_mode": {
    "name": "ipython",
    "version": 3
   },
   "file_extension": ".py",
   "mimetype": "text/x-python",
   "name": "python",
   "nbconvert_exporter": "python",
   "pygments_lexer": "ipython3",
   "version": "3.8.0"
  }
 },
 "nbformat": 4,
 "nbformat_minor": 5
}
