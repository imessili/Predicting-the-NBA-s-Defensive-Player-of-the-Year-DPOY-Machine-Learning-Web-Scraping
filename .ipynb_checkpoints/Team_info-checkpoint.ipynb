{
 "cells": [
  {
   "cell_type": "code",
   "execution_count": 1,
   "id": "d346f7f1-db63-4e72-a778-d9d96eea87a2",
   "metadata": {},
   "outputs": [],
   "source": [
    "import os\n",
    "from selenium import webdriver\n",
    "from selenium.webdriver.common.keys import Keys\n",
    "import time\n",
    "\n",
    "driver = webdriver.Chrome(\n",
    "    executable_path=\"./chromedriver.exe\"\n",
    "    )"
   ]
  },
  {
   "cell_type": "code",
   "execution_count": 2,
   "id": "b590e008-b9d8-4c4c-9486-fad9ccbff095",
   "metadata": {},
   "outputs": [],
   "source": [
    "team_url = \"https://www.basketball-reference.com/teams/MEM/2023.html\"\n",
    "driver.get(team_url)\n",
    "driver.execute_script(\"window.scrollTo(1,10000)\")\n",
    "time.sleep(5)\n",
    "    \n",
    "with open(\"team.html\", \"w+\", encoding=\"utf-8\") as f:\n",
    "    f.write(driver.page_source)"
   ]
  },
  {
   "cell_type": "code",
   "execution_count": 3,
   "id": "173a457c-08e2-4aaf-80d8-c19963edff6e",
   "metadata": {},
   "outputs": [],
   "source": [
    "from bs4 import BeautifulSoup\n",
    "import pandas as pd\n",
    "\n",
    "with open(\"team.html\", encoding=\"utf-8\") as f:\n",
    "    page = f.read()\n",
    "        \n",
    "soup = BeautifulSoup(page, 'html.parser')"
   ]
  },
  {
   "cell_type": "code",
   "execution_count": 4,
   "id": "0de30c4e-737b-4412-a94f-542a1d53a27e",
   "metadata": {},
   "outputs": [
    {
     "name": "stderr",
     "output_type": "stream",
     "text": [
      "C:\\Users\\Abdou\\AppData\\Local\\Temp\\ipykernel_2644\\920947543.py:3: FutureWarning: Passing literal html to 'read_html' is deprecated and will be removed in a future version. To read from a literal string, wrap it in a 'StringIO' object.\n",
      "  team_and_opponent = pd.read_html(str(team_and_opponent))[0]\n"
     ]
    }
   ],
   "source": [
    "## Team and Opponent Stats \n",
    "team_and_opponent = soup.find_all(\"table\", {'id':'team_and_opponent'})[0]\n",
    "team_and_opponent = pd.read_html(str(team_and_opponent))[0]\n",
    "team_and_opponent.to_csv(\"Team_Stats/team_and_opponent.csv\")"
   ]
  },
  {
   "cell_type": "code",
   "execution_count": 5,
   "id": "aab4cdb3-c453-4e13-887f-6077d1f30905",
   "metadata": {},
   "outputs": [
    {
     "name": "stderr",
     "output_type": "stream",
     "text": [
      "C:\\Users\\Abdou\\AppData\\Local\\Temp\\ipykernel_2644\\1572622568.py:3: FutureWarning: Passing literal html to 'read_html' is deprecated and will be removed in a future version. To read from a literal string, wrap it in a 'StringIO' object.\n",
      "  team_misc = pd.read_html(str(team_misc))[0]\n"
     ]
    }
   ],
   "source": [
    "## Team Misc\n",
    "team_misc = soup.find_all(\"table\", {'id':'team_misc'})[0]\n",
    "team_misc = pd.read_html(str(team_misc))[0]\n",
    "team_misc.to_csv(\"Team_Stats/team_misc.csv\")"
   ]
  },
  {
   "cell_type": "code",
   "execution_count": null,
   "id": "5f0b5c9e-5023-435f-83ff-9e5a7f1d6720",
   "metadata": {},
   "outputs": [],
   "source": []
  }
 ],
 "metadata": {
  "kernelspec": {
   "display_name": "Python 3 (ipykernel)",
   "language": "python",
   "name": "python3"
  },
  "language_info": {
   "codemirror_mode": {
    "name": "ipython",
    "version": 3
   },
   "file_extension": ".py",
   "mimetype": "text/x-python",
   "name": "python",
   "nbconvert_exporter": "python",
   "pygments_lexer": "ipython3",
   "version": "3.11.5"
  }
 },
 "nbformat": 4,
 "nbformat_minor": 5
}
