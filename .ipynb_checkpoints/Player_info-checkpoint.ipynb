{
 "cells": [
  {
   "cell_type": "code",
   "execution_count": 1,
   "id": "ccc50287-dabb-4498-b8f0-bec9dadfe5b0",
   "metadata": {},
   "outputs": [
    {
     "name": "stdout",
     "output_type": "stream",
     "text": [
      "Requirement already satisfied: requests in c:\\users\\abdou\\appdata\\local\\programs\\python\\python311\\lib\\site-packages (2.31.0)\n",
      "Requirement already satisfied: charset-normalizer<4,>=2 in c:\\users\\abdou\\appdata\\local\\programs\\python\\python311\\lib\\site-packages (from requests) (3.3.1)\n",
      "Requirement already satisfied: idna<4,>=2.5 in c:\\users\\abdou\\appdata\\local\\programs\\python\\python311\\lib\\site-packages (from requests) (3.4)\n",
      "Requirement already satisfied: urllib3<3,>=1.21.1 in c:\\users\\abdou\\appdata\\local\\programs\\python\\python311\\lib\\site-packages (from requests) (2.0.7)\n",
      "Requirement already satisfied: certifi>=2017.4.17 in c:\\users\\abdou\\appdata\\local\\programs\\python\\python311\\lib\\site-packages (from requests) (2023.7.22)\n"
     ]
    }
   ],
   "source": [
    "!pip install requests"
   ]
  },
  {
   "cell_type": "code",
   "execution_count": 5,
   "id": "d1a85859-de82-419b-ac47-f747d9cf50e0",
   "metadata": {},
   "outputs": [],
   "source": [
    "import os\n",
    "from selenium import webdriver\n",
    "from selenium.webdriver.common.keys import Keys\n",
    "import time\n",
    "\n",
    "driver = webdriver.Chrome(\n",
    "    executable_path=\"./chromedriver.exe\"\n",
    "    )"
   ]
  },
  {
   "cell_type": "code",
   "execution_count": 6,
   "id": "3ed7629f-ac83-4489-9726-ca7194e66967",
   "metadata": {},
   "outputs": [],
   "source": [
    "player_url = \"https://www.basketball-reference.com/players/j/jacksja02.html\"\n",
    "driver.get(player_url)\n",
    "driver.execute_script(\"window.scrollTo(1,10000)\")\n",
    "time.sleep(5)\n",
    "    \n",
    "with open(\"player.html\", \"w+\", encoding=\"utf-8\") as f:\n",
    "    f.write(driver.page_source)"
   ]
  },
  {
   "cell_type": "code",
   "execution_count": null,
   "id": "8dfd6431-c88b-4f27-861f-3c75a6ce911e",
   "metadata": {},
   "outputs": [],
   "source": [
    "from bs4 import BeautifulSoup\n",
    "import pandas as pd\n",
    "\n",
    "with open(\"player.html\", encoding=\"utf-8\") as f:\n",
    "    page = f.read()\n",
    "        \n",
    "soup = BeautifulSoup(page, 'html.parser')\n"
   ]
  },
  {
   "cell_type": "code",
   "execution_count": 12,
   "id": "99b04a44-4a6b-4877-afeb-055aab76a80b",
   "metadata": {},
   "outputs": [
    {
     "name": "stderr",
     "output_type": "stream",
     "text": [
      "C:\\Users\\Abdou\\AppData\\Local\\Temp\\ipykernel_17040\\1449969707.py:3: FutureWarning: Passing literal html to 'read_html' is deprecated and will be removed in a future version. To read from a literal string, wrap it in a 'StringIO' object.\n",
      "  per_game = pd.read_html(str(per_game))[0]\n"
     ]
    }
   ],
   "source": [
    "## Per Game stats\n",
    "per_game = soup.find_all(\"table\", {'id':'per_game'})[0]\n",
    "per_game = pd.read_html(str(per_game))[0]\n",
    "per_game.to_csv(\"Player_Stats/per_game.csv\")"
   ]
  },
  {
   "cell_type": "code",
   "execution_count": 13,
   "id": "4eb35d52-e315-4379-b6b4-72a2ebb645d7",
   "metadata": {},
   "outputs": [
    {
     "name": "stderr",
     "output_type": "stream",
     "text": [
      "C:\\Users\\Abdou\\AppData\\Local\\Temp\\ipykernel_17040\\1332165888.py:3: FutureWarning: Passing literal html to 'read_html' is deprecated and will be removed in a future version. To read from a literal string, wrap it in a 'StringIO' object.\n",
      "  playoffs_per_game = pd.read_html(str(playoffs_per_game))[0]\n"
     ]
    }
   ],
   "source": [
    "## Playoffs Per Game stats\n",
    "playoffs_per_game = soup.find_all(\"table\", {'id':'playoffs_per_game'})[0]\n",
    "playoffs_per_game = pd.read_html(str(playoffs_per_game))[0]\n",
    "playoffs_per_game.to_csv(\"Player_Stats/playoffs_per_game.csv\")"
   ]
  },
  {
   "cell_type": "code",
   "execution_count": 14,
   "id": "8f6d0517-187f-4098-8327-c46c9b2110f1",
   "metadata": {},
   "outputs": [
    {
     "name": "stderr",
     "output_type": "stream",
     "text": [
      "C:\\Users\\Abdou\\AppData\\Local\\Temp\\ipykernel_17040\\1026031386.py:3: FutureWarning: Passing literal html to 'read_html' is deprecated and will be removed in a future version. To read from a literal string, wrap it in a 'StringIO' object.\n",
      "  per_100_poss = pd.read_html(str(per_100_poss))[0]\n"
     ]
    }
   ],
   "source": [
    "## Per 100 Poss stats\n",
    "per_100_poss = soup.find_all(\"table\", {'id':'per_poss'})[0]\n",
    "per_100_poss = pd.read_html(str(per_100_poss))[0]\n",
    "per_100_poss.to_csv(\"Player_Stats/per_100_poss.csv\")"
   ]
  },
  {
   "cell_type": "code",
   "execution_count": 15,
   "id": "04177341-226e-47e8-a889-fc8e7dc1f481",
   "metadata": {},
   "outputs": [
    {
     "name": "stderr",
     "output_type": "stream",
     "text": [
      "C:\\Users\\Abdou\\AppData\\Local\\Temp\\ipykernel_17040\\1787351239.py:3: FutureWarning: Passing literal html to 'read_html' is deprecated and will be removed in a future version. To read from a literal string, wrap it in a 'StringIO' object.\n",
      "  playoffs_per_100_poss = pd.read_html(str(playoffs_per_100_poss))[0]\n"
     ]
    }
   ],
   "source": [
    "## Playoffs Per 100 Poss stats\n",
    "playoffs_per_100_poss = soup.find_all(\"table\", {'id':'playoffs_per_poss'})[0]\n",
    "playoffs_per_100_poss = pd.read_html(str(playoffs_per_100_poss))[0]\n",
    "playoffs_per_100_poss.to_csv(\"Player_Stats/playoffs_per_100_poss.csv\")"
   ]
  },
  {
   "cell_type": "code",
   "execution_count": 16,
   "id": "1a59135f-ee70-4871-8639-a747441ded26",
   "metadata": {},
   "outputs": [
    {
     "name": "stderr",
     "output_type": "stream",
     "text": [
      "C:\\Users\\Abdou\\AppData\\Local\\Temp\\ipykernel_17040\\1351392739.py:3: FutureWarning: Passing literal html to 'read_html' is deprecated and will be removed in a future version. To read from a literal string, wrap it in a 'StringIO' object.\n",
      "  advanced = pd.read_html(str(advanced))[0]\n"
     ]
    }
   ],
   "source": [
    "## Advanced stats\n",
    "advanced = soup.find_all(\"table\", {'id':'advanced'})[0]\n",
    "advanced = pd.read_html(str(advanced))[0]\n",
    "advanced.to_csv(\"Player_Stats/advanced.csv\")"
   ]
  },
  {
   "cell_type": "code",
   "execution_count": 17,
   "id": "d16652e9-f796-4988-a614-fa36dc3049f3",
   "metadata": {},
   "outputs": [
    {
     "name": "stderr",
     "output_type": "stream",
     "text": [
      "C:\\Users\\Abdou\\AppData\\Local\\Temp\\ipykernel_17040\\4032674396.py:3: FutureWarning: Passing literal html to 'read_html' is deprecated and will be removed in a future version. To read from a literal string, wrap it in a 'StringIO' object.\n",
      "  playoffs_advanced = pd.read_html(str(playoffs_advanced))[0]\n"
     ]
    }
   ],
   "source": [
    "## Playoffs Advanced stats \n",
    "playoffs_advanced = soup.find_all(\"table\", {'id':'playoffs_advanced'})[0]\n",
    "playoffs_advanced = pd.read_html(str(playoffs_advanced))[0]\n",
    "playoffs_advanced.to_csv(\"Player_Stats/playoffs_advanced.csv\")"
   ]
  },
  {
   "cell_type": "code",
   "execution_count": null,
   "id": "3aef5803-7db7-412e-83d1-8afe6a20940f",
   "metadata": {},
   "outputs": [],
   "source": []
  }
 ],
 "metadata": {
  "kernelspec": {
   "display_name": "Python 3 (ipykernel)",
   "language": "python",
   "name": "python3"
  },
  "language_info": {
   "codemirror_mode": {
    "name": "ipython",
    "version": 3
   },
   "file_extension": ".py",
   "mimetype": "text/x-python",
   "name": "python",
   "nbconvert_exporter": "python",
   "pygments_lexer": "ipython3",
   "version": "3.12.0"
  }
 },
 "nbformat": 4,
 "nbformat_minor": 5
}
