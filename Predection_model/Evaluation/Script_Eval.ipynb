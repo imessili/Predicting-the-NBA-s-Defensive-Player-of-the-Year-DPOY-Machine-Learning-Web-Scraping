{
 "cells": [
  {
   "cell_type": "code",
   "execution_count": 5,
   "id": "0efdfd8c-69c2-41b8-9cf4-21efb8e61d88",
   "metadata": {},
   "outputs": [
    {
     "name": "stdout",
     "output_type": "stream",
     "text": [
      "Number of correct ranks: 50\n"
     ]
    }
   ],
   "source": [
    "import pandas as pd\n",
    "\n",
    "# Load the DataFrame\n",
    "df = pd.read_csv(\"RDF+RDF_All_rank_data/RDF+RDF_All_rank_data_40.csv\")\n",
    "\n",
    "# Initialize a counter for correct ranks\n",
    "correct_count = 0\n",
    "\n",
    "# Iterate through each column (year)\n",
    "for year in df.columns:\n",
    "    # Iterate through each row in the column\n",
    "    for i in range(len(df)):\n",
    "        # Get the rank value\n",
    "        rank_value = df.loc[i, year]\n",
    "        \n",
    "        # Skip if rank_value is -1 or -1.0 indicating not ranked\n",
    "        if rank_value == -1 or rank_value == -1.0:\n",
    "            continue\n",
    "        \n",
    "        # Convert rank_value to string, remove 'T' if present, and convert to integer\n",
    "        rank_value_str = str(rank_value).replace('T', '')\n",
    "        \n",
    "        try:\n",
    "            rank_value_int = int(float(rank_value_str))\n",
    "        except ValueError:\n",
    "            # Skip if conversion to integer fails\n",
    "            continue\n",
    "        \n",
    "        # Check if the rank matches the (index + 1)\n",
    "        if rank_value_int == i + 1:\n",
    "            correct_count += 1\n",
    "\n",
    "print(f\"Number of correct ranks: {correct_count}\")"
   ]
  },
  {
   "cell_type": "code",
   "execution_count": 7,
   "id": "1fdff445-0045-45e6-ac94-263364aff0da",
   "metadata": {},
   "outputs": [
    {
     "name": "stdout",
     "output_type": "stream",
     "text": [
      "Nom fichier : RDF+RDF_All_rank_data_40\n",
      "Rank_1994: 2 correct ranks\n",
      "Rank_1995: 2 correct ranks\n",
      "Rank_1996: 3 correct ranks\n",
      "Rank_1997: 0 correct ranks\n",
      "Rank_1998: 1 correct ranks\n",
      "Rank_1999: 1 correct ranks\n",
      "Rank_2000: 2 correct ranks\n",
      "Rank_2001: 3 correct ranks\n",
      "Rank_2002: 1 correct ranks\n",
      "Rank_2003: 3 correct ranks\n",
      "Rank_2004: 2 correct ranks\n",
      "Rank_2005: 1 correct ranks\n",
      "Rank_2006: 4 correct ranks\n",
      "Rank_2007: 0 correct ranks\n",
      "Rank_2008: 0 correct ranks\n",
      "Rank_2009: 0 correct ranks\n",
      "Rank_2010: 2 correct ranks\n",
      "Rank_2011: 2 correct ranks\n",
      "Rank_2012: 2 correct ranks\n",
      "Rank_2013: 0 correct ranks\n",
      "Rank_2014: 3 correct ranks\n",
      "Rank_2015: 1 correct ranks\n",
      "Rank_2016: 5 correct ranks\n",
      "Rank_2017: 0 correct ranks\n",
      "Rank_2018: 1 correct ranks\n",
      "Rank_2019: 2 correct ranks\n",
      "Rank_2020: 2 correct ranks\n",
      "Rank_2021: 2 correct ranks\n",
      "Rank_2022: 0 correct ranks\n",
      "Rank_2023: 3 correct ranks\n"
     ]
    }
   ],
   "source": [
    "# Initialize a dictionary to store correct counts per year\n",
    "correct_per_year = {year: 0 for year in df.columns}\n",
    "\n",
    "# Iterate through each column (year)\n",
    "for year in df.columns:\n",
    "    # Iterate through each row in the column\n",
    "    for i in range(len(df)):\n",
    "        # Get the rank value\n",
    "        rank_value = df.loc[i, year]\n",
    "        \n",
    "        # Skip if rank_value is -1 or -1.0 indicating not ranked\n",
    "        if rank_value == -1 or rank_value == -1.0:\n",
    "            continue\n",
    "        \n",
    "        # Convert rank_value to string, remove 'T' if present, and convert to integer\n",
    "        rank_value_str = str(rank_value).replace('T', '')\n",
    "        \n",
    "        try:\n",
    "            rank_value_int = int(float(rank_value_str))\n",
    "        except ValueError:\n",
    "            # Skip if conversion to integer fails\n",
    "            continue\n",
    "        \n",
    "        # Check if the rank matches the (index + 1)\n",
    "        if rank_value_int == i + 1:\n",
    "            correct_per_year[year] += 1\n",
    "print(\"Nom fichier : RDF+RDF_All_rank_data_40\")\n",
    "# Print the number of correct ranks per year\n",
    "for year, count in correct_per_year.items():\n",
    "    print(f\"{year}: {count} correct ranks\")"
   ]
  },
  {
   "cell_type": "code",
   "execution_count": null,
   "id": "4f184a22-2aa7-4333-b71c-98f924c2e8a9",
   "metadata": {},
   "outputs": [],
   "source": []
  }
 ],
 "metadata": {
  "kernelspec": {
   "display_name": "Python 3 (ipykernel)",
   "language": "python",
   "name": "python3"
  },
  "language_info": {
   "codemirror_mode": {
    "name": "ipython",
    "version": 3
   },
   "file_extension": ".py",
   "mimetype": "text/x-python",
   "name": "python",
   "nbconvert_exporter": "python",
   "pygments_lexer": "ipython3",
   "version": "3.8.0"
  }
 },
 "nbformat": 4,
 "nbformat_minor": 5
}
