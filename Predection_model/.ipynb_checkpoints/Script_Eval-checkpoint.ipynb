{
 "cells": [
  {
   "cell_type": "code",
   "execution_count": 16,
   "id": "0efdfd8c-69c2-41b8-9cf4-21efb8e61d88",
   "metadata": {},
   "outputs": [
    {
     "name": "stdout",
     "output_type": "stream",
     "text": [
      "Number of correct ranks: 38\n"
     ]
    }
   ],
   "source": [
    "import pandas as pd\n",
    "\n",
    "# Load the DataFrame\n",
    "df = pd.read_csv(\"XGB+XGB_Period_rank_data/XGB+XGB_Period_rank_data_10.csv\")\n",
    "\n",
    "# Initialize a counter for correct ranks\n",
    "correct_count = 0\n",
    "\n",
    "# Iterate through each column (year)\n",
    "for year in df.columns:\n",
    "    # Iterate through each row in the column\n",
    "    for i in range(len(df)):\n",
    "        # Get the rank value\n",
    "        rank_value = df.loc[i, year]\n",
    "        \n",
    "        # Skip if rank_value is -1 or -1.0 indicating not ranked\n",
    "        if rank_value == -1 or rank_value == -1.0:\n",
    "            continue\n",
    "        \n",
    "        # Convert rank_value to string, remove 'T' if present, and convert to integer\n",
    "        rank_value_str = str(rank_value).replace('T', '')\n",
    "        \n",
    "        try:\n",
    "            rank_value_int = int(float(rank_value_str))\n",
    "        except ValueError:\n",
    "            # Skip if conversion to integer fails\n",
    "            continue\n",
    "        \n",
    "        # Check if the rank matches the (index + 1)\n",
    "        if rank_value_int == i + 1:\n",
    "            correct_count += 1\n",
    "\n",
    "print(f\"Number of correct ranks: {correct_count}\")"
   ]
  },
  {
   "cell_type": "code",
   "execution_count": null,
   "id": "1fdff445-0045-45e6-ac94-263364aff0da",
   "metadata": {},
   "outputs": [],
   "source": [
    "# Initialize a dictionary to store correct counts per year\n",
    "correct_per_year = {year: 0 for year in df.columns}\n",
    "\n",
    "# Iterate through each column (year)\n",
    "for year in df.columns:\n",
    "    # Iterate through each row in the column\n",
    "    for i in range(len(df)):\n",
    "        # Get the rank value\n",
    "        rank_value = df.loc[i, year]\n",
    "        \n",
    "        # Skip if rank_value is -1 or -1.0 indicating not ranked\n",
    "        if rank_value == -1 or rank_value == -1.0:\n",
    "            continue\n",
    "        \n",
    "        # Convert rank_value to string, remove 'T' if present, and convert to integer\n",
    "        rank_value_str = str(rank_value).replace('T', '')\n",
    "        \n",
    "        try:\n",
    "            rank_value_int = int(float(rank_value_str))\n",
    "        except ValueError:\n",
    "            # Skip if conversion to integer fails\n",
    "            continue\n",
    "        \n",
    "        # Check if the rank matches the (index + 1)\n",
    "        if rank_value_int == i + 1:\n",
    "            correct_per_year[year] += 1\n",
    "\n",
    "# Print the number of correct ranks per year\n",
    "for year, count in correct_per_year.items():\n",
    "    print(f\"{year}: {count} correct ranks\")"
   ]
  },
  {
   "cell_type": "code",
   "execution_count": null,
   "id": "4f184a22-2aa7-4333-b71c-98f924c2e8a9",
   "metadata": {},
   "outputs": [],
   "source": []
  }
 ],
 "metadata": {
  "kernelspec": {
   "display_name": "Python 3 (ipykernel)",
   "language": "python",
   "name": "python3"
  },
  "language_info": {
   "codemirror_mode": {
    "name": "ipython",
    "version": 3
   },
   "file_extension": ".py",
   "mimetype": "text/x-python",
   "name": "python",
   "nbconvert_exporter": "python",
   "pygments_lexer": "ipython3",
   "version": "3.8.0"
  }
 },
 "nbformat": 4,
 "nbformat_minor": 5
}
