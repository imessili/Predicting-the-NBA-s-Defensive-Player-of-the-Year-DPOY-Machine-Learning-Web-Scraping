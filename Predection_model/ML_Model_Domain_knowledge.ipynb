{
 "cells": [
  {
   "cell_type": "code",
   "execution_count": 13,
   "id": "c7228f84-0893-4e0c-9f0b-0767bd278df7",
   "metadata": {},
   "outputs": [],
   "source": [
    "import pandas as pd\n",
    "\n",
    "from sklearn.ensemble import RandomForestRegressor\n",
    "\n",
    "from xgboost import XGBRegressor\n",
    "\n",
    "from sklearn.model_selection import GridSearchCV\n",
    "\n",
    "from sklearn.metrics import mean_squared_error, r2_score\n",
    "\n",
    "import matplotlib.pyplot as plt"
   ]
  },
  {
   "cell_type": "code",
   "execution_count": 19,
   "id": "5d8f9ba7-0bd3-46d0-b87d-b15280f68b7a",
   "metadata": {},
   "outputs": [],
   "source": [
    "def Data_Organizer(raw_Data):\n",
    "    \n",
    "    All_players_dataSet = raw_Data.copy()\n",
    "    \n",
    "    All_players_dataSet = All_players_dataSet.drop(columns=All_players_dataSet.columns[All_players_dataSet.columns.str.contains('Unnamed:')])\n",
    "    All_players_dataSet.reset_index(drop=True, inplace=True)\n",
    "    \n",
    "    All_players_dataSet.fillna(0, inplace=True)\n",
    "    All_players_dataSet.replace('', 0, inplace=True)\n",
    "    All_players_dataSet.replace('--', 0, inplace=True)\n",
    "    \n",
    "    # check if any NaN,empty Strings exists in the dataframe\n",
    "    any_missing_values = All_players_dataSet.isna().any().any()\n",
    "    any_empty_values = (All_players_dataSet.applymap(lambda x: x == '')).any().any()\n",
    "    \n",
    "    if any_missing_values or any_empty_values:\n",
    "        print(\"DataFrame contains missing values or empty strings/spaces.\")\n",
    "    else:\n",
    "        print(\"DataFrame does not contain missing values or empty strings/spaces.\")\n",
    "        \n",
    "    ## seperating our dataFrame\n",
    "    Y = All_players_dataSet['Points_won']  # Target\n",
    "    X = All_players_dataSet.drop('Points_won', axis=1)  # Features\n",
    "    \n",
    "    X = X.apply(pd.to_numeric, errors='coerce')\n",
    "\n",
    "    ## keep the specified columns\n",
    "    \n",
    "    columns_to_keep = [\n",
    "        \"Dpoy_votes\",\n",
    "        \"DWS_advanced\",\n",
    "        \"war_total_raptor\",\n",
    "        \"predator_defense_raptor\",\n",
    "        \"war_reg_season_raptor\",\n",
    "        \"WS_advanced\",\n",
    "        \"predator_total_raptor\",\n",
    "        \"raptor_total_raptor\",\n",
    "        \"poss_raptor\",\n",
    "        \"VORP_advanced\",\n",
    "        \"DEF WS_nba\",\n",
    "        \"mp_raptor\",\n",
    "        \"raptor_defense_raptor\",\n",
    "        \"MP_advanced\",\n",
    "        \"MP\",\n",
    "        \"GS\",\n",
    "        \"MP_100_poss\",\n",
    "        \"BPM_advanced\",\n",
    "        \"MIN_nba\",\n",
    "        \"OPP PTS PAINT_nba\",\n",
    "        \"MPG_espn\"\n",
    "    ]\n",
    "    \n",
    "    ## keep only wanted columns\n",
    "    X = X[columns_to_keep]\n",
    "\n",
    "    return X, Y"
   ]
  },
  {
   "cell_type": "code",
   "execution_count": 20,
   "id": "ee9b634b-31d9-4293-a4f8-321799f838d8",
   "metadata": {},
   "outputs": [
    {
     "name": "stderr",
     "output_type": "stream",
     "text": [
      "C:\\Users\\Abdou\\AppData\\Local\\Temp\\ipykernel_6120\\3552079591.py:2: DtypeWarning: Columns (154,155) have mixed types. Specify dtype option on import or set low_memory=False.\n",
      "  all_players_w_add_sorted = pd.read_csv(\"all_players_w_add_sorted.csv\")\n"
     ]
    }
   ],
   "source": [
    "import pandas as pd\n",
    "all_players_w_add_sorted = pd.read_csv(\"all_players_w_add_sorted.csv\")"
   ]
  },
  {
   "cell_type": "code",
   "execution_count": 21,
   "id": "6c590ef5-415a-48cb-a5bb-0b7c7eb65692",
   "metadata": {},
   "outputs": [],
   "source": [
    "Test_Data_2023 = all_players_w_add_sorted[all_players_w_add_sorted['Year'] == 2023]\n",
    "Train_Data_2022 = all_players_w_add_sorted[all_players_w_add_sorted['Year'] <= 2022]"
   ]
  },
  {
   "cell_type": "code",
   "execution_count": 22,
   "id": "fb6ade99-62a1-4b8c-b65d-3b3f83d42477",
   "metadata": {},
   "outputs": [
    {
     "name": "stdout",
     "output_type": "stream",
     "text": [
      "DataFrame does not contain missing values or empty strings/spaces.\n",
      "DataFrame does not contain missing values or empty strings/spaces.\n"
     ]
    }
   ],
   "source": [
    "X_train, y_train = Data_Organizer(Train_Data_2022)\n",
    "X_test , y_test = Data_Organizer(Test_Data_2023)"
   ]
  },
  {
   "cell_type": "code",
   "execution_count": 23,
   "id": "e38f9e8b-8549-47ad-b56f-cd8d74459369",
   "metadata": {},
   "outputs": [
    {
     "name": "stdout",
     "output_type": "stream",
     "text": [
      "Mean Squared Error (Random Forest): 357.28255816456846\n",
      "R-squared (Random Forest): 0.16035687549605449\n"
     ]
    }
   ],
   "source": [
    "# Initialize and train a Random Forest Regressor model\n",
    "rf_model = RandomForestRegressor(n_estimators=300,random_state=42, n_jobs=-1)\n",
    "rf_model.fit(X_train, y_train)\n",
    "\n",
    "# Make predictions on the test set\n",
    "y_pred_rf = rf_model.predict(X_test)\n",
    "\n",
    "# Evaluate the model\n",
    "mse_rf = mean_squared_error(y_test, y_pred_rf)\n",
    "r2_rf = r2_score(y_test, y_pred_rf)\n",
    "\n",
    "# Mean Squared Error (MAE)\n",
    "print(f'Mean Squared Error (Random Forest): {mse_rf}')\n",
    "print(f'R-squared (Random Forest): {r2_rf}')"
   ]
  },
  {
   "cell_type": "code",
   "execution_count": 24,
   "id": "9b5cfc5f-7f4e-44e6-9aa2-1e026e335fda",
   "metadata": {},
   "outputs": [
    {
     "name": "stdout",
     "output_type": "stream",
     "text": [
      "Mean Squared Error (XGBoost): 444.39638794245894\n",
      "R-squared (XGBoost): -0.044367722866571535\n"
     ]
    }
   ],
   "source": [
    "# Initialize and train a XGBoost Regressor model\n",
    "xgb_model = XGBRegressor(n_estimators=200,max_depth = 5, random_state=42, n_jobs=-1)\n",
    "xgb_model.fit(X_train, y_train)\n",
    "\n",
    "# Make predictions on the test set\n",
    "y_pred_xgb = xgb_model.predict(X_test)\n",
    "\n",
    "# Evaluate the model\n",
    "mse_xgb = mean_squared_error(y_test, y_pred_xgb)\n",
    "r2_xgb = r2_score(y_test, y_pred_xgb)\n",
    "\n",
    "# Mean Squared Error (MAE)\n",
    "print(f'Mean Squared Error (XGBoost): {mse_xgb}')\n",
    "print(f'R-squared (XGBoost): {r2_xgb}')"
   ]
  },
  {
   "cell_type": "code",
   "execution_count": 25,
   "id": "72072ccb-6340-419b-92bd-ad6ea3cdd3f5",
   "metadata": {},
   "outputs": [
    {
     "name": "stderr",
     "output_type": "stream",
     "text": [
      "C:\\Users\\Abdou\\AppData\\Local\\Temp\\ipykernel_6120\\3048353508.py:2: SettingWithCopyWarning: \n",
      "A value is trying to be set on a copy of a slice from a DataFrame.\n",
      "Try using .loc[row_indexer,col_indexer] = value instead\n",
      "\n",
      "See the caveats in the documentation: https://pandas.pydata.org/pandas-docs/stable/user_guide/indexing.html#returning-a-view-versus-a-copy\n",
      "  Test_Data_2023.loc[:, 'Predicted_points'] = y_pred_xgb\n"
     ]
    },
    {
     "data": {
      "text/html": [
       "<div>\n",
       "<style scoped>\n",
       "    .dataframe tbody tr th:only-of-type {\n",
       "        vertical-align: middle;\n",
       "    }\n",
       "\n",
       "    .dataframe tbody tr th {\n",
       "        vertical-align: top;\n",
       "    }\n",
       "\n",
       "    .dataframe thead th {\n",
       "        text-align: right;\n",
       "    }\n",
       "</style>\n",
       "<table border=\"1\" class=\"dataframe\">\n",
       "  <thead>\n",
       "    <tr style=\"text-align: right;\">\n",
       "      <th></th>\n",
       "      <th>Player_name</th>\n",
       "      <th>Points_won</th>\n",
       "      <th>Predicted_points</th>\n",
       "    </tr>\n",
       "  </thead>\n",
       "  <tbody>\n",
       "    <tr>\n",
       "      <th>59</th>\n",
       "      <td>Jaren Jackson Jr.</td>\n",
       "      <td>391.0</td>\n",
       "      <td>14.483280</td>\n",
       "    </tr>\n",
       "    <tr>\n",
       "      <th>323</th>\n",
       "      <td>Brook Lopez</td>\n",
       "      <td>309.0</td>\n",
       "      <td>9.337495</td>\n",
       "    </tr>\n",
       "    <tr>\n",
       "      <th>137</th>\n",
       "      <td>Evan Mobley</td>\n",
       "      <td>101.0</td>\n",
       "      <td>-0.731704</td>\n",
       "    </tr>\n",
       "    <tr>\n",
       "      <th>436</th>\n",
       "      <td>Draymond Green</td>\n",
       "      <td>34.0</td>\n",
       "      <td>-1.855413</td>\n",
       "    </tr>\n",
       "    <tr>\n",
       "      <th>524</th>\n",
       "      <td>Bam Adebayo</td>\n",
       "      <td>18.0</td>\n",
       "      <td>-5.162107</td>\n",
       "    </tr>\n",
       "    <tr>\n",
       "      <th>...</th>\n",
       "      <td>...</td>\n",
       "      <td>...</td>\n",
       "      <td>...</td>\n",
       "    </tr>\n",
       "    <tr>\n",
       "      <th>209</th>\n",
       "      <td>DeAndre Jordan</td>\n",
       "      <td>0.0</td>\n",
       "      <td>-0.098247</td>\n",
       "    </tr>\n",
       "    <tr>\n",
       "      <th>210</th>\n",
       "      <td>Brandon Clarke</td>\n",
       "      <td>0.0</td>\n",
       "      <td>-0.178628</td>\n",
       "    </tr>\n",
       "    <tr>\n",
       "      <th>211</th>\n",
       "      <td>Cory Joseph</td>\n",
       "      <td>0.0</td>\n",
       "      <td>0.000881</td>\n",
       "    </tr>\n",
       "    <tr>\n",
       "      <th>212</th>\n",
       "      <td>Nikola Jović</td>\n",
       "      <td>0.0</td>\n",
       "      <td>0.001253</td>\n",
       "    </tr>\n",
       "    <tr>\n",
       "      <th>608</th>\n",
       "      <td>Nick Richards</td>\n",
       "      <td>0.0</td>\n",
       "      <td>0.000881</td>\n",
       "    </tr>\n",
       "  </tbody>\n",
       "</table>\n",
       "<p>609 rows × 3 columns</p>\n",
       "</div>"
      ],
      "text/plain": [
       "           Player_name  Points_won  Predicted_points\n",
       "59   Jaren Jackson Jr.       391.0         14.483280\n",
       "323        Brook Lopez       309.0          9.337495\n",
       "137        Evan Mobley       101.0         -0.731704\n",
       "436     Draymond Green        34.0         -1.855413\n",
       "524        Bam Adebayo        18.0         -5.162107\n",
       "..                 ...         ...               ...\n",
       "209     DeAndre Jordan         0.0         -0.098247\n",
       "210     Brandon Clarke         0.0         -0.178628\n",
       "211        Cory Joseph         0.0          0.000881\n",
       "212       Nikola Jović         0.0          0.001253\n",
       "608      Nick Richards         0.0          0.000881\n",
       "\n",
       "[609 rows x 3 columns]"
      ]
     },
     "metadata": {},
     "output_type": "display_data"
    }
   ],
   "source": [
    "# Assuming y_pred_xgb is a numpy array\n",
    "Test_Data_2023.loc[:, 'Predicted_points'] = y_pred_xgb\n",
    "\n",
    "# Select only the desired columns\n",
    "Test_Data_2023_concatenated = Test_Data_2023[['Player_name', 'Points_won', 'Predicted_points']]\n",
    "\n",
    "# Display the concatenated DataFrame sorted by 'Points_won'\n",
    "display(Test_Data_2023_concatenated.sort_values(by='Points_won', ascending=False))"
   ]
  },
  {
   "cell_type": "code",
   "execution_count": 26,
   "id": "2a90d3b3-5ec5-43e9-97e2-9e29a3d4abdb",
   "metadata": {},
   "outputs": [
    {
     "name": "stdout",
     "output_type": "stream",
     "text": [
      "[LightGBM] [Warning] Found whitespace in feature_names, replace with underlines\n",
      "[LightGBM] [Info] Auto-choosing col-wise multi-threading, the overhead of testing was 0.004189 seconds.\n",
      "You can set `force_col_wise=true` to remove the overhead.\n",
      "[LightGBM] [Info] Total Bins 4472\n",
      "[LightGBM] [Info] Number of data points in the train set: 15675, number of used features: 21\n",
      "[LightGBM] [Info] Start training from score 1.424179\n",
      "Mean Squared Error (LightGBM): 377.34528170451034\n",
      "R-squared (LightGBM): 0.11320784038593201\n"
     ]
    }
   ],
   "source": [
    "from lightgbm import LGBMRegressor\n",
    "from sklearn.metrics import mean_squared_error, r2_score\n",
    "\n",
    "# Initialize and train a LightGBM Regressor model\n",
    "lgbm_model = LGBMRegressor(n_estimators=1500, random_state=42, n_jobs=-1)\n",
    "lgbm_model.fit(X_train, y_train)\n",
    "\n",
    "# Make predictions on the test set\n",
    "y_pred_lgbm = lgbm_model.predict(X_test)\n",
    "\n",
    "# Evaluate the model\n",
    "mse_lgbm = mean_squared_error(y_test, y_pred_lgbm)\n",
    "r2_lgbm = r2_score(y_test, y_pred_lgbm)\n",
    "\n",
    "# Mean Squared Error (MAE)\n",
    "print(f'Mean Squared Error (LightGBM): {mse_lgbm}')\n",
    "print(f'R-squared (LightGBM): {r2_lgbm}')"
   ]
  },
  {
   "cell_type": "code",
   "execution_count": null,
   "id": "04283d13-a14f-4c9b-b2ca-c11de779361e",
   "metadata": {},
   "outputs": [],
   "source": [
    "## Do cross validation\n",
    "## Do RF incremantal learning\n",
    "## Do SGD incremantal learning\n",
    "## Do Leave one out"
   ]
  },
  {
   "cell_type": "code",
   "execution_count": null,
   "id": "be383eb6-cfd8-4e23-b833-3216983a4407",
   "metadata": {},
   "outputs": [],
   "source": [
    "import xgboost as xgb\n",
    "\n",
    "X_train_all, y_train_all = Data_Organizer(all_players_w_add_sorted)\n",
    "\n",
    "# Define the XGBoost regressor\n",
    "xgb_model = xgb.XGBRegressor(random_state=42, n_jobs=-1)\n",
    "\n",
    "# Define the hyperparameters grid to search\n",
    "param_grid = {\n",
    "    'n_estimators': [100, 200, 500, 800],\n",
    "    'learning_rate': [0.05, 0.1, 0.3,0.5],\n",
    "    'max_depth': [3, 5, 6, 7, 9],\n",
    "    'subsample': [0.4, 0.6, 0.8, 1.0],\n",
    "    'colsample_bytree': [0.6, 0.8, 1.0],\n",
    "    'gamma': [0, 0.05, 0.1, 0.2],\n",
    "}\n",
    "\n",
    "# Perform grid search with cross-validation\n",
    "grid_search = GridSearchCV(estimator=xgb_model, param_grid=param_grid, cv=5, scoring='r2')\n",
    "grid_search.fit(X_train, y_train)\n",
    "\n",
    "# Get the best parameters and best score\n",
    "best_params = grid_search.best_params_\n",
    "best_score = grid_search.best_score_\n",
    "\n",
    "print(\"Best Parameters:\", best_params)\n",
    "print(\"Best Score (R-squared):\", best_score)"
   ]
  },
  {
   "cell_type": "code",
   "execution_count": null,
   "id": "99a51410-ee70-47eb-9bfc-72734f8944ff",
   "metadata": {},
   "outputs": [],
   "source": [
    "from sklearn.model_selection import RandomizedSearchCV\n",
    "from scipy.stats import uniform, randint\n",
    "\n",
    "# Define the hyperparameters distribution for random search\n",
    "param_dist = {\n",
    "    'n_estimators': randint(100, 1501),\n",
    "    'learning_rate': uniform(0.05, 0.45),\n",
    "    'max_depth': randint(3, 10),\n",
    "    'subsample': uniform(0.4, 0.6),\n",
    "    'colsample_bytree': uniform(0.6, 0.4),\n",
    "    'gamma': uniform(0, 0.2),\n",
    "}\n",
    "\n",
    "# Perform random search with cross-validation\n",
    "random_search = RandomizedSearchCV(estimator=xgb_model, param_distributions=param_dist, n_iter=100, cv=5, scoring='r2')\n",
    "random_search.fit(X_train_all, y_train_all)\n",
    "\n",
    "# Get the best parameters and best score\n",
    "best_params_random = random_search.best_params_\n",
    "best_score_random = random_search.best_score_\n",
    "\n",
    "print(\"Best Parameters (Random Search):\", best_params_random)\n",
    "print(\"Best Score (R-squared) (Random Search):\", best_score_random)"
   ]
  }
 ],
 "metadata": {
  "kernelspec": {
   "display_name": "Python 3 (ipykernel)",
   "language": "python",
   "name": "python3"
  },
  "language_info": {
   "codemirror_mode": {
    "name": "ipython",
    "version": 3
   },
   "file_extension": ".py",
   "mimetype": "text/x-python",
   "name": "python",
   "nbconvert_exporter": "python",
   "pygments_lexer": "ipython3",
   "version": "3.8.0"
  }
 },
 "nbformat": 4,
 "nbformat_minor": 5
}
